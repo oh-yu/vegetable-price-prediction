{
 "cells": [
  {
   "cell_type": "markdown",
   "id": "7252c6a8-070b-4816-94a1-bd88b5d94ce2",
   "metadata": {},
   "source": [
    "# Import Modules"
   ]
  },
  {
   "cell_type": "code",
   "execution_count": 1,
   "id": "d5ec26b8-542d-4d31-b187-97665d27c890",
   "metadata": {},
   "outputs": [],
   "source": [
    "import pandas as pd\n",
    "import numpy as np\n",
    "from ray import tune\n",
    "import torch\n",
    "from torch import nn\n",
    "from torch import optim\n",
    "\n",
    "import utils"
   ]
  },
  {
   "cell_type": "code",
   "execution_count": 2,
   "id": "70e8bdde-23ff-41a2-826c-d86ee17c0e22",
   "metadata": {},
   "outputs": [],
   "source": [
    "DEVICE = torch.device(\"cuda\" if torch.cuda.is_available() else \"cpu\")"
   ]
  },
  {
   "cell_type": "markdown",
   "id": "bd24a900-9932-4c91-b771-b985abc77173",
   "metadata": {},
   "source": [
    "# Load Data"
   ]
  },
  {
   "cell_type": "code",
   "execution_count": 3,
   "id": "27abf787-af8e-4aee-a1e1-5a3075b6101f",
   "metadata": {},
   "outputs": [],
   "source": [
    "vegetable = utils.VEGETABLES[0]\n",
    "\n",
    "if vegetable == \"なましいたけ\":\n",
    "    train_size = 3000\n",
    "elif vegetable == \"セルリー\":\n",
    "    train_size = 2000\n",
    "elif vegetable == \"そらまめ\":\n",
    "    train_size = 800\n",
    "elif vegetable == \"ミニトマト\":\n",
    "    train_size = 1500\n",
    "else:\n",
    "    train_size = 4000"
   ]
  },
  {
   "cell_type": "code",
   "execution_count": 4,
   "id": "d3c21660-49fa-4b14-b86a-04458dd42e20",
   "metadata": {},
   "outputs": [],
   "source": [
    "train_test = pd.read_csv(\"./data/mapped_train_test.csv\")\n",
    "train_test[\"date\"] = pd.to_datetime(train_test[\"date\"], format=\"%Y-%m-%d\")\n",
    "weather = pd.read_csv(\"./data/sorted_mapped_adjusted_weather.csv\")\n",
    "train_test = pd.concat([train_test, weather], axis=1)\n",
    "\n",
    "train_test[\"year\"] = train_test.date.dt.year\n",
    "years = pd.get_dummies(train_test[\"year\"])\n",
    "train_test = train_test.drop(columns=\"year\")\n",
    "train_test = pd.concat([train_test, years], axis=1)\n",
    "\n",
    "train_test[\"month\"] = train_test.date.dt.month\n",
    "months = pd.get_dummies(train_test[\"month\"])\n",
    "train_test = train_test.drop(columns=\"month\")\n",
    "train_test = pd.concat([train_test, months], axis=1)\n",
    "\n",
    "# train_test[\"weekday\"] = train_test.date.dt.weekday\n",
    "# weekdays = pd.get_dummies(train_test[\"weekday\"])\n",
    "# train_test = train_test.drop(columns=\"weekday\")\n",
    "# train_test = pd.concat([train_test, weekdays], axis=1)\n",
    "\n",
    "areas = pd.get_dummies(train_test[\"area\"])\n",
    "train_test = train_test.drop(columns=\"area\")\n",
    "train_test = pd.concat([train_test, areas], axis=1)\n",
    "\n",
    "train = train_test[:pd.read_csv(\"./data/train.csv\").shape[0]]\n",
    "\n",
    "target_values = utils.get_target_values(train, vegetable)\n",
    "changed_col = [1, 0] + [i for i in np.arange(2, target_values.shape[1])]\n",
    "target_values = target_values[:, changed_col]"
   ]
  },
  {
   "cell_type": "markdown",
   "id": "ef185d00-80c6-4479-a88d-361d754702f2",
   "metadata": {},
   "source": [
    "# Set Config, Params"
   ]
  },
  {
   "cell_type": "code",
   "execution_count": 7,
   "id": "70f154e8-0616-4c0e-a9e0-21f952c5c9ed",
   "metadata": {},
   "outputs": [],
   "source": [
    "rnn_options = {\n",
    "    \"target_values\": target_values,\n",
    "    \"training_size\": train_size,\n",
    "}\n",
    "\n",
    "rnn_config = {\n",
    "    \"lr\": tune.loguniform(1e-4, 1e-1),\n",
    "    \"weight_decay\": tune.choice([0, 1e-10, 1e-7, 1e-5, 1e-3]),\n",
    "    \"eps\": tune.choice([1e-11, 1e-8, 1e-5, 1e-3, 1e-1]),\n",
    "    \"num_epochs\": tune.choice([25, 50, 75, 100, 150]),\n",
    "    \"batch_size\": tune.choice([16, train_size]),\n",
    "    \"wandb\": {\n",
    "        \"project\": f\"{vegetable}\",\n",
    "        \"api_key_file\": \"./wandb_api_key.txt\"\n",
    "    }\n",
    "}"
   ]
  },
  {
   "cell_type": "markdown",
   "id": "5211087c-5552-4035-95eb-48178141e90d",
   "metadata": {},
   "source": [
    "# Raytune"
   ]
  },
  {
   "cell_type": "code",
   "execution_count": null,
   "id": "52b10d70-504e-46b1-b416-e7946e3ea799",
   "metadata": {},
   "outputs": [],
   "source": [
    "utils.pipeline_raytune(rnn_options, rnn_config)"
   ]
  }
 ],
 "metadata": {
  "kernelspec": {
   "display_name": "Python 3 (ipykernel)",
   "language": "python",
   "name": "python3"
  },
  "language_info": {
   "codemirror_mode": {
    "name": "ipython",
    "version": 3
   },
   "file_extension": ".py",
   "mimetype": "text/x-python",
   "name": "python",
   "nbconvert_exporter": "python",
   "pygments_lexer": "ipython3",
   "version": "3.8.8"
  }
 },
 "nbformat": 4,
 "nbformat_minor": 5
}
