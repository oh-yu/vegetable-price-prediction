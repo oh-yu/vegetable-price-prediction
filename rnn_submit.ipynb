{
 "cells": [
  {
   "cell_type": "markdown",
   "id": "7252c6a8-070b-4816-94a1-bd88b5d94ce2",
   "metadata": {},
   "source": [
    "# Import Modules"
   ]
  },
  {
   "cell_type": "code",
   "execution_count": 20,
   "id": "730c2022-779e-46e9-a0f3-11ee5eae53f1",
   "metadata": {},
   "outputs": [],
   "source": [
    "import json\n",
    "\n",
    "import numpy as np\n",
    "import pandas as pd\n",
    "import torch\n",
    "\n",
    "import utils"
   ]
  },
  {
   "cell_type": "markdown",
   "id": "8e754c89-8f98-4b99-9047-d467ba743894",
   "metadata": {},
   "source": [
    "# Set Vegetable"
   ]
  },
  {
   "cell_type": "code",
   "execution_count": 22,
   "id": "e1664840-fea3-47ea-ba57-c1b30639f3f9",
   "metadata": {},
   "outputs": [
    {
     "name": "stdout",
     "output_type": "stream",
     "text": [
      "vegetable: ねぎ\n",
      "free params: {'T': 10, 'batch_size': 16, 'num_epochs': 150, 'learning_rate': 0.001, 'weight_decay': 0.001, 'eps': 1e-08, 'hidden_size': 1000, 'dropout_ratio': 0.5, 'num_ensamble': 5}\n"
     ]
    }
   ],
   "source": [
    "vegetable = utils.VEGETABLES[7]\n",
    "\n",
    "json_open = open('./free_params.json', 'r')\n",
    "params = json.load(json_open)\n",
    "param = params[vegetable]\n",
    "\n",
    "print(f\"vegetable: {vegetable}\")\n",
    "print(f\"free params: {param}\")"
   ]
  },
  {
   "cell_type": "markdown",
   "id": "bd24a900-9932-4c91-b771-b985abc77173",
   "metadata": {},
   "source": [
    "# Load Data"
   ]
  },
  {
   "cell_type": "code",
   "execution_count": 23,
   "id": "553f0556-9c9f-4211-a629-d6c965e9b3c6",
   "metadata": {},
   "outputs": [],
   "source": [
    "train_test = pd.read_csv(\"./data/mapped_train_test.csv\")\n",
    "train_test[\"date\"] = pd.to_datetime(train_test[\"date\"], format=\"%Y-%m-%d\")\n",
    "weather = pd.read_csv(\"./data/sorted_mapped_adjusted_weather.csv\")\n",
    "train_test = pd.concat([train_test, weather], axis=1)\n",
    "train_test = train_test.reset_index(drop=True)\n",
    "\n",
    "train_test[\"year\"] = train_test.date.dt.year\n",
    "years = pd.get_dummies(train_test[\"year\"])\n",
    "train_test = train_test.drop(columns=\"year\")\n",
    "train_test = pd.concat([train_test, years], axis=1)\n",
    "\n",
    "train_test[\"month\"] = train_test.date.dt.month\n",
    "months = pd.get_dummies(train_test[\"month\"])\n",
    "train_test = train_test.drop(columns=\"month\")\n",
    "train_test = pd.concat([train_test, months], axis=1)\n",
    "\n",
    "areas = pd.get_dummies(train_test[\"area\"])\n",
    "train_test = train_test.drop(columns=\"area\")\n",
    "train_test = pd.concat([train_test, areas], axis=1)\n",
    "\n",
    "test_size = pd.read_csv(\"./data/test.csv\").shape[0]\n",
    "train = train_test[:-test_size]\n",
    "test = train_test[-test_size:]\n",
    "\n",
    "train = utils.get_target_values(train, vegetable)\n",
    "test = utils.get_target_values(test, vegetable)\n",
    "\n",
    "changed_col = [1, 0] + [i for i in np.arange(2, train.shape[1])]\n",
    "train = train[:, changed_col]\n",
    "test = test[:, changed_col]\n",
    "\n",
    "test_amount = pd.read_csv(\"./data/test_amount.csv\")\n",
    "test_amount = test_amount[vegetable].values\n",
    "test[:, 1] = test_amount\n",
    "\n",
    "train_loader, train, test, ss = utils.preprocess_data_mto1(train, test, T=param[\"T\"], batch_size=param[\"batch_size\"])"
   ]
  },
  {
   "cell_type": "code",
   "execution_count": 24,
   "id": "c2f2853f",
   "metadata": {},
   "outputs": [
    {
     "name": "stdout",
     "output_type": "stream",
     "text": [
      "torch.Size([16, 10, 279])\n",
      "torch.Size([16, 1])\n"
     ]
    }
   ],
   "source": [
    "for _, (batch_x, batch_y) in enumerate(train_loader):\n",
    "    print(batch_x.shape)\n",
    "    print(batch_y.shape)\n",
    "    break"
   ]
  },
  {
   "cell_type": "markdown",
   "id": "e2767616-1254-429e-8f40-1e9f95e66223",
   "metadata": {},
   "source": [
    "# Assign Free Params"
   ]
  },
  {
   "cell_type": "code",
   "execution_count": 25,
   "id": "7653d224-b6f8-463d-8f52-d67c2eee2555",
   "metadata": {},
   "outputs": [],
   "source": [
    "future = test.shape[0]\n",
    "num_ensamble = param[\"num_ensamble\"]\n",
    "num_epochs = param[\"num_epochs\"]\n",
    "learning_rate = param[\"learning_rate\"]\n",
    "weight_decay = param[\"weight_decay\"]\n",
    "eps = param[\"eps\"]\n",
    "hidden_size = param[\"hidden_size\"]\n",
    "dropout_ratio = param[\"dropout_ratio\"]"
   ]
  },
  {
   "cell_type": "markdown",
   "id": "5211087c-5552-4035-95eb-48178141e90d",
   "metadata": {},
   "source": [
    "# Training"
   ]
  },
  {
   "cell_type": "code",
   "execution_count": 26,
   "id": "aeb43757-8b24-4d1c-8180-b98f084b6026",
   "metadata": {},
   "outputs": [],
   "source": [
    "models = []\n",
    "for _ in range(num_ensamble):\n",
    "    \n",
    "    model = utils.pipeline_rnn_submit(train_loader, train, test, future=future, num_epochs=num_epochs, lr=learning_rate,\n",
    "                                      weight_decay=weight_decay, eps=eps, hidden_size=hidden_size, dropout_ratio=dropout_ratio)\n",
    "    models.append(model)"
   ]
  },
  {
   "cell_type": "markdown",
   "id": "6c9bebcc-743d-4c4d-8e36-a184a84c36d6",
   "metadata": {},
   "source": [
    "# Predict"
   ]
  },
  {
   "cell_type": "code",
   "execution_count": 27,
   "id": "ebbd5566-9bc2-4f1c-9b4f-1b39391a3564",
   "metadata": {},
   "outputs": [],
   "source": [
    "preds = []\n",
    "test_np = test.cpu().detach().numpy()\n",
    "for model in models:\n",
    "    with torch.no_grad():\n",
    "        model.eval()\n",
    "        pred_y = model.predict(train, test, future)\n",
    "\n",
    "    pred_y = pred_y.cpu().detach().numpy()\n",
    "    \n",
    "    pred_y = np.concatenate([pred_y.reshape(-1, 1), test_np[:, 1:]], axis=1)\n",
    "    pred_y[:, :7] = ss.inverse_transform(pred_y[:, :7])\n",
    "    pred_y = pred_y[:, 0].tolist()\n",
    "\n",
    "    preds.append(pred_y)\n",
    "\n",
    "pred_y = np.mean(np.array(preds),axis=0)"
   ]
  },
  {
   "cell_type": "code",
   "execution_count": 33,
   "id": "6714e99d-c790-43dc-8508-ec898b567ac4",
   "metadata": {},
   "outputs": [],
   "source": [
    "pred_y = np.mean(np.array(preds),axis=0)"
   ]
  },
  {
   "cell_type": "code",
   "execution_count": 28,
   "id": "3870a091-78ff-4195-9dae-14e217e22758",
   "metadata": {},
   "outputs": [
    {
     "data": {
      "text/plain": [
       "[1714.5527587890624,\n",
       " 1770.4857666015625,\n",
       " 1683.5466796875,\n",
       " 1532.7705810546875,\n",
       " 1509.991650390625,\n",
       " 1561.3765380859375,\n",
       " 1573.53525390625,\n",
       " 1521.6934326171875,\n",
       " 1612.1877197265626,\n",
       " 1709.6316650390625,\n",
       " 1779.03017578125,\n",
       " 1810.5008544921875,\n",
       " 1766.024169921875,\n",
       " 1752.9901123046875,\n",
       " 1757.4171630859375,\n",
       " 1776.65830078125,\n",
       " 1769.203759765625,\n",
       " 1683.53427734375,\n",
       " 1764.538525390625,\n",
       " 1752.4733154296875]"
      ]
     },
     "execution_count": 28,
     "metadata": {},
     "output_type": "execute_result"
    }
   ],
   "source": [
    "pred_y.tolist()"
   ]
  },
  {
   "cell_type": "code",
   "execution_count": 36,
   "id": "1c6a5f4d-1bdc-4469-9b6f-85c8779bcb86",
   "metadata": {},
   "outputs": [
    {
     "data": {
      "text/plain": [
       "array([1728, 1620, 1728, 1728, 1620, 1728, 1728, 1836, 1728, 1836, 1944,\n",
       "       2160, 2160, 2376, 2268, 2484, 2376, 2376, 2160, 2268])"
      ]
     },
     "execution_count": 36,
     "metadata": {},
     "output_type": "execute_result"
    }
   ],
   "source": [
    "test_y"
   ]
  },
  {
   "cell_type": "code",
   "execution_count": null,
   "id": "bdc0f87a-d3ab-402f-b24a-1ac079517ec8",
   "metadata": {},
   "outputs": [],
   "source": []
  },
  {
   "cell_type": "code",
   "execution_count": 34,
   "id": "ae55c93e-32cd-4d62-ad15-0f5c078d406a",
   "metadata": {},
   "outputs": [],
   "source": [
    "prev = [1170.446558,\n",
    "1140.184961,\n",
    "1050.051245,\n",
    "1066.856372,\n",
    "1084.071191,\n",
    "1126.003247,\n",
    "1110.306006,\n",
    "1125.573413,\n",
    "1126.034961,\n",
    "1102.569141,\n",
    "1112.0698,\n",
    "1072.164355,\n",
    "1099.573096,\n",
    "1117.732007,\n",
    "1095.651978,\n",
    "1091.448657,\n",
    "1052.976404,\n",
    "1067.212671,\n",
    "1077.097998,\n",
    "1054.890796]"
   ]
  },
  {
   "cell_type": "code",
   "execution_count": 35,
   "id": "086c3955-afe9-4d81-8edd-035ae5529d89",
   "metadata": {},
   "outputs": [
    {
     "data": {
      "text/plain": [
       "<matplotlib.legend.Legend at 0x7f787438f820>"
      ]
     },
     "execution_count": 35,
     "metadata": {},
     "output_type": "execute_result"
    },
    {
     "data": {
      "image/png": "[encoded data removed]",
      "text/plain": [
       "<Figure size 432x288 with 1 Axes>"
      ]
     },
     "metadata": {
      "needs_background": "light"
     },
     "output_type": "display_data"
    }
   ],
   "source": [
    "df = pd.read_csv(\"./data/test_ans.csv\")\n",
    "df[\"date\"] = df[\"Unnamed: 0\"]\n",
    "df = df.drop(columns=\"Unnamed: 0\")\n",
    "df = df.set_index(\"date\")\n",
    "test_y = df[vegetable].values\n",
    "\n",
    "import matplotlib.pyplot as plt\n",
    "plt.plot(pred_y, label=\"pred\")\n",
    "plt.plot(test_y, label=\"test\")\n",
    "plt.plot(prev)\n",
    "plt.legend()"
   ]
  },
  {
   "cell_type": "code",
   "execution_count": 30,
   "id": "24ab113d-5159-4b68-9e55-f9cd482762d5",
   "metadata": {},
   "outputs": [],
   "source": [
    "def RMSPE(pred_y, test_y):\n",
    "    ans = []\n",
    "    for pred, test in zip(pred_y, test_y):\n",
    "        ans.append((pred-test) / test)\n",
    "    ans = np.sum(ans)\n",
    "    ans = ((ans**2)/len(pred_y)) * 100\n",
    "    print(f\"RMSPE:{ans}\")\n",
    "    return ans"
   ]
  },
  {
   "cell_type": "code",
   "execution_count": 31,
   "id": "f2a09c6e-2e87-47ee-8daf-e1c5b9d53dbf",
   "metadata": {},
   "outputs": [
    {
     "name": "stdout",
     "output_type": "stream",
     "text": [
      "RMSPE:38.440100229958915\n"
     ]
    },
    {
     "data": {
      "text/plain": [
       "38.440100229958915"
      ]
     },
     "execution_count": 31,
     "metadata": {},
     "output_type": "execute_result"
    }
   ],
   "source": [
    "RMSPE(pred_y, test_y)"
   ]
  }
 ],
 "metadata": {
  "kernelspec": {
   "display_name": "Python 3 (ipykernel)",
   "language": "python",
   "name": "python3"
  },
  "language_info": {
   "codemirror_mode": {
    "name": "ipython",
    "version": 3
   },
   "file_extension": ".py",
   "mimetype": "text/x-python",
   "name": "python",
   "nbconvert_exporter": "python",
   "pygments_lexer": "ipython3",
   "version": "3.8.8"
  },
  "vscode": {
   "interpreter": {
    "hash": "27e9154ec7ca169ef45759ec10015a98995aac026607e41de2c9ae8ba2eb54fb"
   }
  }
 },
 "nbformat": 4,
 "nbformat_minor": 5
}
