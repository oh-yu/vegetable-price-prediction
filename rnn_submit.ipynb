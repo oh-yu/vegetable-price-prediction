{
 "cells": [
  {
   "cell_type": "markdown",
   "id": "7252c6a8-070b-4816-94a1-bd88b5d94ce2",
   "metadata": {},
   "source": [
    "# Import Modules"
   ]
  },
  {
   "cell_type": "code",
   "execution_count": 41,
   "id": "730c2022-779e-46e9-a0f3-11ee5eae53f1",
   "metadata": {},
   "outputs": [],
   "source": [
    "import json\n",
    "\n",
    "import numpy as np\n",
    "import pandas as pd\n",
    "import torch\n",
    "\n",
    "import utils"
   ]
  },
  {
   "cell_type": "markdown",
   "id": "8e754c89-8f98-4b99-9047-d467ba743894",
   "metadata": {},
   "source": [
    "# Set Vegetable"
   ]
  },
  {
   "cell_type": "code",
   "execution_count": 42,
   "id": "e1664840-fea3-47ea-ba57-c1b30639f3f9",
   "metadata": {},
   "outputs": [],
   "source": [
    "target_vegetable = utils.VEGETABLES[14]"
   ]
  },
  {
   "cell_type": "code",
   "execution_count": 43,
   "id": "25aed811-57af-4d5c-889f-38ea5fc2e216",
   "metadata": {},
   "outputs": [],
   "source": [
    "json_open = open('./free_params.json', 'r')\n",
    "params = json.load(json_open)\n",
    "param = params[target_vegetable]"
   ]
  },
  {
   "cell_type": "code",
   "execution_count": 44,
   "id": "fcec87c3-2d5a-47fd-bd38-caf822f8b81f",
   "metadata": {},
   "outputs": [
    {
     "name": "stdout",
     "output_type": "stream",
     "text": [
      "vegetable: そらまめ\n",
      "free params: {'T': 10, 'batch_size': 1054, 'num_epochs': 100, 'learning_rate': 0.0005, 'weight_decay': 0.001, 'eps': 1e-08, 'hidden_size': 500, 'dropout_ratio': 0.1}\n"
     ]
    }
   ],
   "source": [
    "print(f\"vegetable: {target_vegetable}\")\n",
    "print(f\"free params: {param}\")"
   ]
  },
  {
   "cell_type": "markdown",
   "id": "bd24a900-9932-4c91-b771-b985abc77173",
   "metadata": {},
   "source": [
    "# Load Data"
   ]
  },
  {
   "cell_type": "code",
   "execution_count": 45,
   "id": "553f0556-9c9f-4211-a629-d6c965e9b3c6",
   "metadata": {},
   "outputs": [],
   "source": [
    "train_test = pd.read_csv(\"./data/mapped_train_test.csv\")\n",
    "train_test[\"date\"] = pd.to_datetime(train_test[\"date\"], format=\"%Y-%m-%d\")\n",
    "weather = pd.read_csv(\"./data/sorted_mapped_adjusted_weather.csv\")\n",
    "train_test = pd.concat([train_test, weather], axis=1)\n",
    "train_test = train_test.reset_index(drop=True)\n",
    "\n",
    "train_test[\"year\"] = train_test.date.dt.year\n",
    "years = pd.get_dummies(train_test[\"year\"])\n",
    "train_test = train_test.drop(columns=\"year\")\n",
    "train_test = pd.concat([train_test, years], axis=1)\n",
    "\n",
    "train_test[\"month\"] = train_test.date.dt.month\n",
    "months = pd.get_dummies(train_test[\"month\"])\n",
    "train_test = train_test.drop(columns=\"month\")\n",
    "train_test = pd.concat([train_test, months], axis=1)\n",
    "\n",
    "areas = pd.get_dummies(train_test[\"area\"])\n",
    "train_test = train_test.drop(columns=\"area\")\n",
    "train_test = pd.concat([train_test, areas], axis=1)\n",
    "\n",
    "test_size = pd.read_csv(\"./data/test.csv\").shape[0]\n",
    "train = train_test[:-test_size]\n",
    "test = train_test[-test_size:]\n",
    "\n",
    "train = utils.get_target_values(train, target_vegetable)\n",
    "test = utils.get_target_values(test, target_vegetable)\n",
    "\n",
    "changed_col = [1, 0] + [i for i in np.arange(2, train.shape[1])]\n",
    "train = train[:, changed_col]\n",
    "test = test[:, changed_col]\n",
    "\n",
    "test_amount = pd.read_csv(\"./data/test_amount.csv\")\n",
    "test_amount = test_amount[target_vegetable].values\n",
    "test[:, 1] = test_amount\n",
    "\n",
    "train_loader, train, test, ss = utils.preprocess_data_submit(train, test, T=param[\"T\"], batch_size=param[\"batch_size\"])"
   ]
  },
  {
   "cell_type": "markdown",
   "id": "e2767616-1254-429e-8f40-1e9f95e66223",
   "metadata": {},
   "source": [
    "# Assign Free Params"
   ]
  },
  {
   "cell_type": "code",
   "execution_count": 46,
   "id": "7653d224-b6f8-463d-8f52-d67c2eee2555",
   "metadata": {},
   "outputs": [],
   "source": [
    "future = test.shape[0]\n",
    "num_epochs = param[\"num_epochs\"]\n",
    "learning_rate = param[\"learning_rate\"]\n",
    "weight_decay = param[\"weight_decay\"]\n",
    "eps = param[\"eps\"]\n",
    "hidden_size = param[\"hidden_size\"]\n",
    "dropout_ratio = param[\"dropout_ratio\"]"
   ]
  },
  {
   "cell_type": "markdown",
   "id": "5211087c-5552-4035-95eb-48178141e90d",
   "metadata": {},
   "source": [
    "# Training"
   ]
  },
  {
   "cell_type": "code",
   "execution_count": 47,
   "id": "d8e492cb-7024-4945-bf68-c163e7f48d72",
   "metadata": {},
   "outputs": [],
   "source": [
    "model = utils.pipeline_rnn_submit(train_loader, train, test, future=future, num_epochs=num_epochs, lr=learning_rate,\n",
    "                                  weight_decay=weight_decay, eps=eps, hidden_size=hidden_size, dropout_ratio=dropout_ratio)"
   ]
  },
  {
   "cell_type": "markdown",
   "id": "6c9bebcc-743d-4c4d-8e36-a184a84c36d6",
   "metadata": {},
   "source": [
    "# Predict"
   ]
  },
  {
   "cell_type": "code",
   "execution_count": 48,
   "id": "13d4b145-7050-4896-9089-2e90d0f3f313",
   "metadata": {},
   "outputs": [
    {
     "name": "stdout",
     "output_type": "stream",
     "text": [
      "std: 527.1260690928439\n"
     ]
    },
    {
     "data": {
      "text/plain": [
       "[2916.013615022931,\n",
       " 2869.310951050756,\n",
       " 2706.9072743983975,\n",
       " 2588.810049947525,\n",
       " 2513.484024756102,\n",
       " 2480.438655155315,\n",
       " 2355.6128149142173,\n",
       " 2292.7394116378528,\n",
       " 2078.247063517784,\n",
       " 1864.8188026786884,\n",
       " 1739.6248749095419,\n",
       " 1693.4806154809723,\n",
       " 1613.3751863471277,\n",
       " 1562.9617095863982,\n",
       " 1510.1809745235892,\n",
       " 1456.967337795485,\n",
       " 1419.6595255957163,\n",
       " 1421.7258570626186,\n",
       " 1432.967977979954,\n",
       " 1403.717935017923]"
      ]
     },
     "execution_count": 48,
     "metadata": {},
     "output_type": "execute_result"
    }
   ],
   "source": [
    "with torch.no_grad():\n",
    "    model.eval()\n",
    "    pred_y = model.predict(train, test, future)\n",
    "\n",
    "pred_y = pred_y.cpu().detach().numpy()\n",
    "pred_y = np.concatenate([pred_y.reshape(-1, 1), test[:, 1:]], axis=1)\n",
    "pred_y[:, :7] = ss.inverse_transform(pred_y[:, :7])\n",
    "\n",
    "print(f\"std: {np.std(pred_y[:, 0].tolist())}\")\n",
    "pred_y[:, 0].tolist()"
   ]
  }
 ],
 "metadata": {
  "kernelspec": {
   "display_name": "Python 3 (ipykernel)",
   "language": "python",
   "name": "python3"
  },
  "language_info": {
   "codemirror_mode": {
    "name": "ipython",
    "version": 3
   },
   "file_extension": ".py",
   "mimetype": "text/x-python",
   "name": "python",
   "nbconvert_exporter": "python",
   "pygments_lexer": "ipython3",
   "version": "3.8.8"
  }
 },
 "nbformat": 4,
 "nbformat_minor": 5
}
