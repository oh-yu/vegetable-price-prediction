{
 "cells": [
  {
   "cell_type": "markdown",
   "id": "7252c6a8-070b-4816-94a1-bd88b5d94ce2",
   "metadata": {},
   "source": [
    "# Import Modules"
   ]
  },
  {
   "cell_type": "code",
   "execution_count": 2,
   "id": "730c2022-779e-46e9-a0f3-11ee5eae53f1",
   "metadata": {},
   "outputs": [],
   "source": [
    "import json\n",
    "import pickle\n",
    "\n",
    "import numpy as np\n",
    "import pandas as pd\n",
    "import torch\n",
    "\n",
    "import utils"
   ]
  },
  {
   "cell_type": "code",
   "execution_count": null,
   "id": "87dd8a68-687f-4f7c-982a-c962bff0165c",
   "metadata": {},
   "outputs": [],
   "source": [
    "SEED = 0\n",
    "torch.manual_seed(SEED)\n",
    "torch.cuda.manual_seed_all(SEED)"
   ]
  },
  {
   "cell_type": "markdown",
   "id": "8e754c89-8f98-4b99-9047-d467ba743894",
   "metadata": {},
   "source": [
    "# Set Vegetable"
   ]
  },
  {
   "cell_type": "code",
   "execution_count": 3,
   "id": "e1664840-fea3-47ea-ba57-c1b30639f3f9",
   "metadata": {},
   "outputs": [
    {
     "name": "stdout",
     "output_type": "stream",
     "text": [
      "vegetable: だいこん\n",
      "free params: {'T': 36, 'batch_size': 2412, 'num_epochs': 64, 'learning_rate': 0.005223420083374704, 'weight_decay': 3.416512393334067e-13, 'eps': 9.671061702182804e-15, 'hidden_size': 368, 'dropout_ratio': 0.5208164295982842, 'is_attention': 1, 'num_ensamble': 5}\n"
     ]
    }
   ],
   "source": [
    "vegetable = utils.VEGETABLES[0]\n",
    "\n",
    "json_open = open('./free_params.json', 'r')\n",
    "params = json.load(json_open)\n",
    "param = params[vegetable]\n",
    "\n",
    "print(f\"vegetable: {vegetable}\")\n",
    "print(f\"free params: {param}\")"
   ]
  },
  {
   "cell_type": "markdown",
   "id": "bd24a900-9932-4c91-b771-b985abc77173",
   "metadata": {},
   "source": [
    "# Load Data"
   ]
  },
  {
   "cell_type": "code",
   "execution_count": 4,
   "id": "553f0556-9c9f-4211-a629-d6c965e9b3c6",
   "metadata": {},
   "outputs": [],
   "source": [
    "train_test = pd.read_csv(\"./data/mapped_train_test.csv\")\n",
    "train_test[\"date\"] = pd.to_datetime(train_test[\"date\"], format=\"%Y-%m-%d\")\n",
    "weather = pd.read_csv(\"./data/sorted_mapped_adjusted_weather.csv\")\n",
    "train_test = pd.concat([train_test, weather], axis=1)\n",
    "train_test = train_test.reset_index(drop=True)\n",
    "\n",
    "train_test[\"year\"] = train_test.date.dt.year\n",
    "years = pd.get_dummies(train_test[\"year\"])\n",
    "train_test = train_test.drop(columns=\"year\")\n",
    "train_test = pd.concat([train_test, years], axis=1)\n",
    "\n",
    "train_test[\"month\"] = train_test.date.dt.month\n",
    "months = pd.get_dummies(train_test[\"month\"])\n",
    "train_test = train_test.drop(columns=\"month\")\n",
    "train_test = pd.concat([train_test, months], axis=1)\n",
    "\n",
    "areas = pd.get_dummies(train_test[\"area\"])\n",
    "train_test = train_test.drop(columns=\"area\")\n",
    "train_test = pd.concat([train_test, areas], axis=1)\n",
    "\n",
    "test_size = pd.read_csv(\"./data/test.csv\").shape[0]\n",
    "train = train_test[:-test_size]\n",
    "test = train_test[-test_size:]\n",
    "\n",
    "train = utils.get_target_values(train, vegetable)\n",
    "test = utils.get_target_values(test, vegetable)\n",
    "\n",
    "changed_col = [1, 0] + [i for i in np.arange(2, train.shape[1])]\n",
    "train = train[:, changed_col]\n",
    "test = test[:, changed_col]\n",
    "\n",
    "test_amount = pd.read_csv(\"./data/test_amount.csv\")\n",
    "test_amount = test_amount[vegetable].values\n",
    "test[:, 1] = test_amount\n",
    "\n",
    "train_loader, train, test, ss = utils.preprocess_data_submit(train, test, T=param[\"T\"], batch_size=param[\"batch_size\"])"
   ]
  },
  {
   "cell_type": "markdown",
   "id": "e2767616-1254-429e-8f40-1e9f95e66223",
   "metadata": {},
   "source": [
    "# Assign Free Params"
   ]
  },
  {
   "cell_type": "code",
   "execution_count": 5,
   "id": "7653d224-b6f8-463d-8f52-d67c2eee2555",
   "metadata": {},
   "outputs": [],
   "source": [
    "future = test.shape[0]\n",
    "num_ensamble = param[\"num_ensamble\"]\n",
    "num_epochs = param[\"num_epochs\"]\n",
    "learning_rate = param[\"learning_rate\"]\n",
    "weight_decay = param[\"weight_decay\"]\n",
    "eps = param[\"eps\"]\n",
    "hidden_size = param[\"hidden_size\"]\n",
    "dropout_ratio = param[\"dropout_ratio\"]\n",
    "is_attention = param[\"is_attention\"]"
   ]
  },
  {
   "cell_type": "markdown",
   "id": "5211087c-5552-4035-95eb-48178141e90d",
   "metadata": {},
   "source": [
    "# Training"
   ]
  },
  {
   "cell_type": "code",
   "execution_count": null,
   "id": "a3bea89f-612b-4f70-9c17-4af40fcc201f",
   "metadata": {},
   "outputs": [],
   "source": [
    "models = []\n",
    "outs = []\n",
    "hidden_memory_list = []\n",
    "\n",
    "for _ in range(num_ensamble):\n",
    "    \n",
    "    model, out, hidden_memory = utils.pipeline_rnn_submit(train_loader, train, test, future=future, num_epochs=num_epochs, lr=learning_rate,\n",
    "                                                          weight_decay=weight_decay, eps=eps, hidden_size=hidden_size, dropout_ratio=dropout_ratio, is_attention=is_attention)\n",
    "    models.append(model)\n",
    "    outs.append(out)\n",
    "    hidden_memory_list.append(hidden_memory)"
   ]
  },
  {
   "cell_type": "markdown",
   "id": "6c9bebcc-743d-4c4d-8e36-a184a84c36d6",
   "metadata": {},
   "source": [
    "# Predict"
   ]
  },
  {
   "cell_type": "code",
   "execution_count": 6,
   "id": "ebbd5566-9bc2-4f1c-9b4f-1b39391a3564",
   "metadata": {},
   "outputs": [],
   "source": [
    "preds = []\n",
    "\n",
    "for model in models:\n",
    "    with torch.no_grad():\n",
    "        model.eval()\n",
    "        pred_y = model.predict(train, test, future)\n",
    "\n",
    "    pred_y = pred_y.cpu().detach().numpy()\n",
    "    pred_y = np.concatenate([pred_y.reshape(-1, 1), test[:, 1:]], axis=1)\n",
    "    pred_y[:, :7] = ss.inverse_transform(pred_y[:, :7])\n",
    "    pred_y = pred_y[:, 0].tolist()\n",
    "\n",
    "    preds.append(pred_y)\n",
    "\n",
    "pred_y = np.mean(np.array(preds),axis=0)"
   ]
  },
  {
   "cell_type": "code",
   "execution_count": 7,
   "id": "3870a091-78ff-4195-9dae-14e217e22758",
   "metadata": {},
   "outputs": [
    {
     "data": {
      "text/plain": [
       "[969.2453109990744,\n",
       " 1047.7871674926366,\n",
       " 1091.5069783712736,\n",
       " 1134.0139677575103,\n",
       " 1140.3271676426634,\n",
       " 1147.0156310811303,\n",
       " 1148.9660865812402,\n",
       " 1160.1336844119214,\n",
       " 1147.7265981596693,\n",
       " 1155.3268723014764,\n",
       " 1156.377687523295,\n",
       " 1159.7946757294173,\n",
       " 1161.6792124843305,\n",
       " 1162.132876054244,\n",
       " 1161.2098309773048,\n",
       " 1159.3249640579024,\n",
       " 1156.9438388371095,\n",
       " 1165.0607044954907,\n",
       " 1149.9082478308571,\n",
       " 1138.8714671418027]"
      ]
     },
     "execution_count": 7,
     "metadata": {},
     "output_type": "execute_result"
    }
   ],
   "source": [
    "pred_y.tolist()"
   ]
  },
  {
   "cell_type": "markdown",
   "id": "d8b20102-a1a1-45f9-b3fc-c5e6be5c1ff4",
   "metadata": {},
   "source": [
    "# Save state_dict"
   ]
  },
  {
   "cell_type": "code",
   "execution_count": 8,
   "id": "ea13633f-0cea-4823-b13f-fb92d4e3b22f",
   "metadata": {},
   "outputs": [],
   "source": [
    "for idx, model in enumerate(models):\n",
    "    torch.save(model.state_dict(), f\"./models/{vegetable}/rnn_{idx}.pth\")\n",
    "\n",
    "    with open(f\"./models/{vegetable}/rnn_{idx}_out.bin\", 'wb') as p:\n",
    "        pickle.dump(outs[idx], p)\n",
    "    with open(f\"./models/{vegetable}/rnn_{idx}_hidden_memory.bin\", 'wb') as p:\n",
    "        pickle.dump(hidden_memory_list[idx], p)    "
   ]
  },
  {
   "cell_type": "markdown",
   "id": "cc5810ea-4105-4ed1-be29-878993ee5e61",
   "metadata": {},
   "source": [
    "# Load state_dict"
   ]
  },
  {
   "cell_type": "code",
   "execution_count": 6,
   "id": "bffa1d27-cb83-4f81-9195-0e02868e1446",
   "metadata": {},
   "outputs": [],
   "source": [
    "models = []\n",
    "\n",
    "\n",
    "for idx in range(num_ensamble):\n",
    "    model = utils.RNN(input_size=train.shape[2], hidden_size=hidden_size,\n",
    "                      dropout_ratio=dropout_ratio, is_attention=is_attention).to(utils.DEVICE)\n",
    "    \n",
    "    model.load_state_dict(torch.load(f\"./models/{vegetable}/rnn_{idx}.pth\"))\n",
    "    with open(f\"./models/{vegetable}/rnn_{idx}_out.bin\", 'rb') as p:\n",
    "        model.out = pickle.load(p)\n",
    "    with open(f\"./models/{vegetable}/rnn_{idx}_hidden_memory.bin\", 'rb') as p:\n",
    "        hidden_memory = pickle.load(p)\n",
    "    \n",
    "    model.h_t1 = hidden_memory[\"h_t1\"]\n",
    "    model.c_t1 = hidden_memory[\"c_t1\"]\n",
    "    model.h_t2 = hidden_memory[\"h_t2\"]\n",
    "    model.c_t2 = hidden_memory[\"c_t2\"]\n",
    "\n",
    "    models.append(model)"
   ]
  }
 ],
 "metadata": {
  "kernelspec": {
   "display_name": "Python 3 (ipykernel)",
   "language": "python",
   "name": "python3"
  },
  "language_info": {
   "codemirror_mode": {
    "name": "ipython",
    "version": 3
   },
   "file_extension": ".py",
   "mimetype": "text/x-python",
   "name": "python",
   "nbconvert_exporter": "python",
   "pygments_lexer": "ipython3",
   "version": "3.8.8"
  }
 },
 "nbformat": 4,
 "nbformat_minor": 5
}
