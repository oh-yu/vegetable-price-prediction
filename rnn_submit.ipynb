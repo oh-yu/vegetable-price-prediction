{
 "cells": [
  {
   "cell_type": "markdown",
   "id": "7252c6a8-070b-4816-94a1-bd88b5d94ce2",
   "metadata": {},
   "source": [
    "# Import Modules"
   ]
  },
  {
   "cell_type": "code",
   "execution_count": 104,
   "id": "730c2022-779e-46e9-a0f3-11ee5eae53f1",
   "metadata": {},
   "outputs": [],
   "source": [
    "import json\n",
    "\n",
    "import numpy as np\n",
    "import pandas as pd\n",
    "import torch\n",
    "\n",
    "import utils"
   ]
  },
  {
   "cell_type": "markdown",
   "id": "8e754c89-8f98-4b99-9047-d467ba743894",
   "metadata": {},
   "source": [
    "# Set Vegetable"
   ]
  },
  {
   "cell_type": "code",
   "execution_count": 113,
   "id": "e1664840-fea3-47ea-ba57-c1b30639f3f9",
   "metadata": {},
   "outputs": [
    {
     "name": "stdout",
     "output_type": "stream",
     "text": [
      "vegetable: ミニトマト\n",
      "free params: {'T': 10, 'batch_size': 16, 'num_epochs': 70, 'learning_rate': 0.001, 'weight_decay': 0.001, 'eps': 1e-08, 'hidden_size': 500, 'dropout_ratio': 0.5, 'num_ensamble': 10}\n"
     ]
    }
   ],
   "source": [
    "vegetable = utils.VEGETABLES[15]\n",
    "\n",
    "json_open = open('./free_params.json', 'r')\n",
    "params = json.load(json_open)\n",
    "param = params[vegetable]\n",
    "\n",
    "print(f\"vegetable: {vegetable}\")\n",
    "print(f\"free params: {param}\")"
   ]
  },
  {
   "cell_type": "markdown",
   "id": "bd24a900-9932-4c91-b771-b985abc77173",
   "metadata": {},
   "source": [
    "# Load Data"
   ]
  },
  {
   "cell_type": "code",
   "execution_count": 108,
   "id": "553f0556-9c9f-4211-a629-d6c965e9b3c6",
   "metadata": {},
   "outputs": [],
   "source": [
    "train_test = pd.read_csv(\"./data/mapped_train_test.csv\")\n",
    "train_test[\"date\"] = pd.to_datetime(train_test[\"date\"], format=\"%Y-%m-%d\")\n",
    "weather = pd.read_csv(\"./data/sorted_mapped_adjusted_weather.csv\")\n",
    "train_test = pd.concat([train_test, weather], axis=1)\n",
    "train_test = train_test.reset_index(drop=True)\n",
    "\n",
    "train_test[\"year\"] = train_test.date.dt.year\n",
    "years = pd.get_dummies(train_test[\"year\"])\n",
    "train_test = train_test.drop(columns=\"year\")\n",
    "train_test = pd.concat([train_test, years], axis=1)\n",
    "\n",
    "train_test[\"month\"] = train_test.date.dt.month\n",
    "months = pd.get_dummies(train_test[\"month\"])\n",
    "train_test = train_test.drop(columns=\"month\")\n",
    "train_test = pd.concat([train_test, months], axis=1)\n",
    "\n",
    "areas = pd.get_dummies(train_test[\"area\"])\n",
    "train_test = train_test.drop(columns=\"area\")\n",
    "train_test = pd.concat([train_test, areas], axis=1)\n",
    "\n",
    "test_size = pd.read_csv(\"./data/test.csv\").shape[0]\n",
    "train = train_test[:-test_size]\n",
    "test = train_test[-test_size:]\n",
    "\n",
    "train = utils.get_target_values(train, vegetable)\n",
    "test = utils.get_target_values(test, vegetable)\n",
    "\n",
    "changed_col = [1, 0] + [i for i in np.arange(2, train.shape[1])]\n",
    "train = train[:, changed_col]\n",
    "test = test[:, changed_col]\n",
    "\n",
    "test_amount = pd.read_csv(\"./data/test_amount.csv\")\n",
    "test_amount = test_amount[vegetable].values\n",
    "test[:, 1] = test_amount\n",
    "\n",
    "train_loader, train, test, ss = utils.preprocess_data_submit(train, test, T=param[\"T\"], batch_size=param[\"batch_size\"])"
   ]
  },
  {
   "cell_type": "markdown",
   "id": "e2767616-1254-429e-8f40-1e9f95e66223",
   "metadata": {},
   "source": [
    "# Assign Free Params"
   ]
  },
  {
   "cell_type": "code",
   "execution_count": 109,
   "id": "7653d224-b6f8-463d-8f52-d67c2eee2555",
   "metadata": {},
   "outputs": [],
   "source": [
    "future = test.shape[0]\n",
    "num_ensamble = param[\"num_ensamble\"]\n",
    "num_epochs = param[\"num_epochs\"]\n",
    "learning_rate = param[\"learning_rate\"]\n",
    "weight_decay = param[\"weight_decay\"]\n",
    "eps = param[\"eps\"]\n",
    "hidden_size = param[\"hidden_size\"]\n",
    "dropout_ratio = param[\"dropout_ratio\"]"
   ]
  },
  {
   "cell_type": "markdown",
   "id": "5211087c-5552-4035-95eb-48178141e90d",
   "metadata": {},
   "source": [
    "# Training"
   ]
  },
  {
   "cell_type": "code",
   "execution_count": 110,
   "id": "a3bea89f-612b-4f70-9c17-4af40fcc201f",
   "metadata": {},
   "outputs": [],
   "source": [
    "models = []\n",
    "for _ in range(num_ensamble):\n",
    "    \n",
    "    model = utils.pipeline_rnn_submit(train_loader, train, test, future=future, num_epochs=num_epochs, lr=learning_rate,\n",
    "                                      weight_decay=weight_decay, eps=eps, hidden_size=hidden_size, dropout_ratio=dropout_ratio)\n",
    "    models.append(model)"
   ]
  },
  {
   "cell_type": "markdown",
   "id": "6c9bebcc-743d-4c4d-8e36-a184a84c36d6",
   "metadata": {},
   "source": [
    "# Predict"
   ]
  },
  {
   "cell_type": "code",
   "execution_count": 111,
   "id": "ebbd5566-9bc2-4f1c-9b4f-1b39391a3564",
   "metadata": {},
   "outputs": [],
   "source": [
    "preds = []\n",
    "\n",
    "for model in models:\n",
    "    with torch.no_grad():\n",
    "        model.eval()\n",
    "        pred_y = model.predict(train, test, future)\n",
    "\n",
    "    pred_y = pred_y.cpu().detach().numpy()\n",
    "    pred_y = np.concatenate([pred_y.reshape(-1, 1), test[:, 1:]], axis=1)\n",
    "    pred_y[:, :7] = ss.inverse_transform(pred_y[:, :7])\n",
    "    pred_y = pred_y[:, 0].tolist()\n",
    "\n",
    "    preds.append(pred_y)\n",
    "\n",
    "pred_y = np.mean(np.array(preds),axis=0)"
   ]
  },
  {
   "cell_type": "code",
   "execution_count": 112,
   "id": "3870a091-78ff-4195-9dae-14e217e22758",
   "metadata": {},
   "outputs": [
    {
     "data": {
      "text/plain": [
       "[117.58034579990439,\n",
       " 115.10439185069033,\n",
       " 106.84217198725442,\n",
       " 105.10640037504405,\n",
       " 103.08203141566896,\n",
       " 104.3724802870103,\n",
       " 103.2320974909624,\n",
       " 105.39044823418752,\n",
       " 106.4624123055404,\n",
       " 105.2411926827422,\n",
       " 106.83260997632263,\n",
       " 104.4700925528698,\n",
       " 105.27614543313469,\n",
       " 107.44235181009597,\n",
       " 108.05174828282823,\n",
       " 109.95821038695894,\n",
       " 116.49819389702705,\n",
       " 119.03017368470537,\n",
       " 120.93572578483595,\n",
       " 117.54971995734272]"
      ]
     },
     "execution_count": 112,
     "metadata": {},
     "output_type": "execute_result"
    }
   ],
   "source": [
    "pred_y.tolist()"
   ]
  }
 ],
 "metadata": {
  "kernelspec": {
   "display_name": "Python 3 (ipykernel)",
   "language": "python",
   "name": "python3"
  },
  "language_info": {
   "codemirror_mode": {
    "name": "ipython",
    "version": 3
   },
   "file_extension": ".py",
   "mimetype": "text/x-python",
   "name": "python",
   "nbconvert_exporter": "python",
   "pygments_lexer": "ipython3",
   "version": "3.8.8"
  }
 },
 "nbformat": 4,
 "nbformat_minor": 5
}
