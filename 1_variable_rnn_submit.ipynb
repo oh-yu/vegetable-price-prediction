{
 "cells": [
  {
   "cell_type": "markdown",
   "id": "7252c6a8-070b-4816-94a1-bd88b5d94ce2",
   "metadata": {},
   "source": [
    "# Import Modules"
   ]
  },
  {
   "cell_type": "code",
   "execution_count": 3,
   "id": "730c2022-779e-46e9-a0f3-11ee5eae53f1",
   "metadata": {},
   "outputs": [],
   "source": [
    "import numpy as np\n",
    "import pandas as pd\n",
    "\n",
    "import utils"
   ]
  },
  {
   "cell_type": "markdown",
   "id": "bd24a900-9932-4c91-b771-b985abc77173",
   "metadata": {},
   "source": [
    "# Load Data"
   ]
  },
  {
   "cell_type": "code",
   "execution_count": 4,
   "id": "b07dacdc-b901-451a-964c-f729fab68f48",
   "metadata": {},
   "outputs": [],
   "source": [
    "target_vegetable = utils.VEGETABLES[14]"
   ]
  },
  {
   "cell_type": "code",
   "execution_count": 5,
   "id": "c316953d-3707-436d-b59a-b52d869c5d09",
   "metadata": {},
   "outputs": [
    {
     "data": {
      "text/plain": [
       "'そらまめ'"
      ]
     },
     "execution_count": 5,
     "metadata": {},
     "output_type": "execute_result"
    }
   ],
   "source": [
    "utils.VEGETABLES[14]"
   ]
  },
  {
   "cell_type": "code",
   "execution_count": 34,
   "id": "553f0556-9c9f-4211-a629-d6c965e9b3c6",
   "metadata": {},
   "outputs": [],
   "source": [
    "train_test = pd.read_csv(\"./data/mapped_train_test.csv\")\n",
    "train_test[\"date\"] = pd.to_datetime(train_test[\"date\"], format=\"%Y-%m-%d\")\n",
    "weather = pd.read_csv(\"./data/sorted_mapped_adjusted_weather.csv\")\n",
    "train_test = pd.concat([train_test, weather], axis=1)\n",
    "train_test = train_test.reset_index(drop=True)\n",
    "\n",
    "train_test[\"year\"] = train_test.date.dt.year\n",
    "years = pd.get_dummies(train_test[\"year\"])\n",
    "train_test = train_test.drop(columns=\"year\")\n",
    "train_test = pd.concat([train_test, years], axis=1)\n",
    "\n",
    "train_test[\"month\"] = train_test.date.dt.month\n",
    "months = pd.get_dummies(train_test[\"month\"])\n",
    "train_test = train_test.drop(columns=\"month\")\n",
    "train_test = pd.concat([train_test, months], axis=1)\n",
    "\n",
    "# train_test[\"weekday\"] = train_test.date.dt.weekday\n",
    "# weekdays = pd.get_dummies(train_test[\"weekday\"])\n",
    "# train_test = train_test.drop(columns=\"weekday\")\n",
    "# train_test = pd.concat([train_test, weekdays], axis=1)\n",
    "\n",
    "areas = pd.get_dummies(train_test[\"area\"])\n",
    "train_test = train_test.drop(columns=\"area\")\n",
    "train_test = pd.concat([train_test, areas], axis=1)\n",
    "\n",
    "test_size = pd.read_csv(\"./data/test.csv\").shape[0]\n",
    "train = train_test[:-test_size]\n",
    "test = train_test[-test_size:]\n",
    "\n",
    "train = utils.get_target_values(train, target_vegetable)\n",
    "test = utils.get_target_values(test, target_vegetable)\n",
    "\n",
    "train_loader, train, test, ss = utils.preprocess_data_submit(train, test)"
   ]
  },
  {
   "cell_type": "markdown",
   "id": "e2767616-1254-429e-8f40-1e9f95e66223",
   "metadata": {},
   "source": [
    "# Set Free Params"
   ]
  },
  {
   "cell_type": "code",
   "execution_count": 35,
   "id": "7653d224-b6f8-463d-8f52-d67c2eee2555",
   "metadata": {},
   "outputs": [],
   "source": [
    "future = test.shape[0]\n",
    "num_epochs = 70\n",
    "learning_rate = 0.001\n",
    "weight_decay = 1e-3"
   ]
  },
  {
   "cell_type": "markdown",
   "id": "5211087c-5552-4035-95eb-48178141e90d",
   "metadata": {},
   "source": [
    "# Training"
   ]
  },
  {
   "cell_type": "code",
   "execution_count": 36,
   "id": "d8e492cb-7024-4945-bf68-c163e7f48d72",
   "metadata": {},
   "outputs": [],
   "source": [
    "pred_y = utils.pipeline_rnn_submit(train_loader, train, test, future=future, num_epochs=num_epochs,\n",
    "                                   lr=learning_rate, weight_decay=weight_decay)\n",
    "\n",
    "pred_y = pred_y.cpu().detach().numpy()\n",
    "pred_y = np.concatenate([pred_y.reshape(-1, 1), test[:, 1:]], axis=1)\n",
    "pred_y[:, :6] = ss.inverse_transform(pred_y[:, :6])"
   ]
  },
  {
   "cell_type": "code",
   "execution_count": 37,
   "id": "65cc5cc3-1f32-440f-a2ff-9058b7fe93e7",
   "metadata": {},
   "outputs": [
    {
     "data": {
      "text/plain": [
       "[2633.9907076626478,\n",
       " 2624.5487355393684,\n",
       " 2570.2495897482886,\n",
       " 2488.6321461426373,\n",
       " 2377.2372333503777,\n",
       " 2293.601581591989,\n",
       " 2166.2367492399053,\n",
       " 2065.35662683659,\n",
       " 1957.9575316258063,\n",
       " 1857.7252974886462,\n",
       " 1769.2105888690812,\n",
       " 1731.015438013705,\n",
       " 1717.7673526653252,\n",
       " 1713.9527237141633,\n",
       " 1714.6473041794097,\n",
       " 1717.320523056961,\n",
       " 1720.5616083959637,\n",
       " 1720.6784441575273,\n",
       " 1731.1664502225287,\n",
       " 1735.6596879216129]"
      ]
     },
     "execution_count": 37,
     "metadata": {},
     "output_type": "execute_result"
    }
   ],
   "source": [
    "pred_y[:, 0].tolist()"
   ]
  }
 ],
 "metadata": {
  "kernelspec": {
   "display_name": "Python 3 (ipykernel)",
   "language": "python",
   "name": "python3"
  },
  "language_info": {
   "codemirror_mode": {
    "name": "ipython",
    "version": 3
   },
   "file_extension": ".py",
   "mimetype": "text/x-python",
   "name": "python",
   "nbconvert_exporter": "python",
   "pygments_lexer": "ipython3",
   "version": "3.8.8"
  }
 },
 "nbformat": 4,
 "nbformat_minor": 5
}
