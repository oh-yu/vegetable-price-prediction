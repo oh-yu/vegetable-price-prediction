{
 "cells": [
  {
   "cell_type": "markdown",
   "id": "7252c6a8-070b-4816-94a1-bd88b5d94ce2",
   "metadata": {},
   "source": [
    "# Import Modules"
   ]
  },
  {
   "cell_type": "code",
   "execution_count": 1,
   "id": "730c2022-779e-46e9-a0f3-11ee5eae53f1",
   "metadata": {},
   "outputs": [],
   "source": [
    "import numpy as np\n",
    "import pandas as pd\n",
    "\n",
    "import utils"
   ]
  },
  {
   "cell_type": "markdown",
   "id": "bd24a900-9932-4c91-b771-b985abc77173",
   "metadata": {},
   "source": [
    "# Load Data"
   ]
  },
  {
   "cell_type": "code",
   "execution_count": 2,
   "id": "b07dacdc-b901-451a-964c-f729fab68f48",
   "metadata": {},
   "outputs": [],
   "source": [
    "target_vegetables = utils.VEGETABLES\n",
    "target_vegetable = target_vegetables[15]"
   ]
  },
  {
   "cell_type": "code",
   "execution_count": 3,
   "id": "553f0556-9c9f-4211-a629-d6c965e9b3c6",
   "metadata": {},
   "outputs": [],
   "source": [
    "train = pd.read_csv(\"./data/train.csv\")\n",
    "test = pd.read_csv(\"./data/test.csv\")\n",
    "train_test = pd.concat([train, test], axis=0)\n",
    "train_test[\"date\"] = pd.to_datetime(train_test[\"date\"], format=\"%Y%m%d\")\n",
    "train_test = train_test.reset_index(drop=True)\n",
    "\n",
    "train_test[\"year\"] = train_test.date.dt.year\n",
    "years = pd.get_dummies(train_test[\"year\"])\n",
    "train_test = train_test.drop(columns=\"year\")\n",
    "train_test = pd.concat([train_test, years], axis=1)\n",
    "\n",
    "train_test[\"month\"] = train_test.date.dt.month\n",
    "months = pd.get_dummies(train_test[\"month\"])\n",
    "train_test = train_test.drop(columns=\"month\")\n",
    "train_test = pd.concat([train_test, months], axis=1)\n",
    "\n",
    "train_test[\"weekday\"] = train_test.date.dt.weekday\n",
    "weekdays = pd.get_dummies(train_test[\"weekday\"])\n",
    "train_test = train_test.drop(columns=\"weekday\")\n",
    "train_test = pd.concat([train_test, weekdays], axis=1)\n",
    "\n",
    "areas = pd.get_dummies(train_test[\"area\"])\n",
    "train_test = train_test.drop(columns=\"area\")\n",
    "train_test = pd.concat([train_test, areas], axis=1)\n",
    "\n",
    "train = train_test[:-test.shape[0]]\n",
    "test = train_test[-test.shape[0]:]\n",
    "\n",
    "train = utils.get_target_values(train, target_vegetable)\n",
    "test = utils.get_target_values(test, target_vegetable)\n",
    "\n",
    "train_loader, train, test, ss = utils.preprocess_data(train, test)"
   ]
  },
  {
   "cell_type": "markdown",
   "id": "e2767616-1254-429e-8f40-1e9f95e66223",
   "metadata": {},
   "source": [
    "# Set Free Params"
   ]
  },
  {
   "cell_type": "code",
   "execution_count": 4,
   "id": "7653d224-b6f8-463d-8f52-d67c2eee2555",
   "metadata": {},
   "outputs": [],
   "source": [
    "future = test.shape[0]\n",
    "num_epochs = 100\n",
    "learning_rate = 0.005\n",
    "weight_decay = 1e-3"
   ]
  },
  {
   "cell_type": "markdown",
   "id": "5211087c-5552-4035-95eb-48178141e90d",
   "metadata": {},
   "source": [
    "# Training"
   ]
  },
  {
   "cell_type": "code",
   "execution_count": 6,
   "id": "d8e492cb-7024-4945-bf68-c163e7f48d72",
   "metadata": {},
   "outputs": [],
   "source": [
    "pred_y = utils.pipeline_rnn(train_loader, train, test, future=future, num_epochs=num_epochs,\n",
    "                            lr=learning_rate, weight_decay=weight_decay)\n",
    "\n",
    "pred_y = pred_y.cpu().detach().numpy()\n",
    "pred_y = np.concatenate([pred_y.reshape(-1, 1), test[:, 1:]], axis=1)\n",
    "pred_y[:, :1] = ss.inverse_transform(pred_y[:, :1])"
   ]
  },
  {
   "cell_type": "code",
   "execution_count": 7,
   "id": "65cc5cc3-1f32-440f-a2ff-9058b7fe93e7",
   "metadata": {},
   "outputs": [
    {
     "data": {
      "text/plain": [
       "[111.74423447775294,\n",
       " 105.72466600870825,\n",
       " 104.16115295096395,\n",
       " 101.00860033486602,\n",
       " 97.83318537110665,\n",
       " 98.1556074594964,\n",
       " 96.78717763973647,\n",
       " 96.51854079887933,\n",
       " 95.44881955277171,\n",
       " 94.22062802045394,\n",
       " 96.1551945974754,\n",
       " 95.94487972466595,\n",
       " 96.26377798136103,\n",
       " 95.45969746800301,\n",
       " 94.31725250692176,\n",
       " 96.29108342115919,\n",
       " 96.0912549267261,\n",
       " 96.40418650221841,\n",
       " 95.57208556871839,\n",
       " 94.3935766586269]"
      ]
     },
     "execution_count": 7,
     "metadata": {},
     "output_type": "execute_result"
    }
   ],
   "source": [
    "pred_y[:, 0].tolist()"
   ]
  }
 ],
 "metadata": {
  "kernelspec": {
   "display_name": "Python 3 (ipykernel)",
   "language": "python",
   "name": "python3"
  },
  "language_info": {
   "codemirror_mode": {
    "name": "ipython",
    "version": 3
   },
   "file_extension": ".py",
   "mimetype": "text/x-python",
   "name": "python",
   "nbconvert_exporter": "python",
   "pygments_lexer": "ipython3",
   "version": "3.8.8"
  }
 },
 "nbformat": 4,
 "nbformat_minor": 5
}
