{
 "cells": [
  {
   "cell_type": "markdown",
   "id": "7252c6a8-070b-4816-94a1-bd88b5d94ce2",
   "metadata": {},
   "source": [
    "# Import Modules"
   ]
  },
  {
   "cell_type": "code",
   "execution_count": 128,
   "id": "730c2022-779e-46e9-a0f3-11ee5eae53f1",
   "metadata": {},
   "outputs": [],
   "source": [
    "import numpy as np\n",
    "import pandas as pd\n",
    "\n",
    "import utils"
   ]
  },
  {
   "cell_type": "markdown",
   "id": "bd24a900-9932-4c91-b771-b985abc77173",
   "metadata": {},
   "source": [
    "# Load Data"
   ]
  },
  {
   "cell_type": "code",
   "execution_count": 189,
   "id": "b07dacdc-b901-451a-964c-f729fab68f48",
   "metadata": {},
   "outputs": [],
   "source": [
    "target_vegetables = [\n",
    "    'だいこん', 'にんじん', 'キャベツ', 'レタス',\n",
    "    'はくさい', 'こまつな', 'ほうれんそう', 'ねぎ',\n",
    "    'きゅうり', 'トマト', 'ピーマン', 'じゃがいも',\n",
    "    'なましいたけ', 'セルリー', 'そらまめ', 'ミニトマト'\n",
    "]\n",
    "target_vegetable = target_vegetables[15]"
   ]
  },
  {
   "cell_type": "code",
   "execution_count": 190,
   "id": "553f0556-9c9f-4211-a629-d6c965e9b3c6",
   "metadata": {},
   "outputs": [],
   "source": [
    "train = pd.read_csv(\"./data/train.csv\")\n",
    "test = pd.read_csv(\"./data/test.csv\")\n",
    "train_test = pd.concat([train, test])\n",
    "train_test[\"date\"] = pd.to_datetime(train_test[\"date\"], format=\"%Y%m%d\")\n",
    "train_test = train_test.reset_index(drop=True)\n",
    "\n",
    "train_test[\"year\"] = train_test.date.dt.year\n",
    "years = pd.get_dummies(train_test[\"year\"])\n",
    "train_test = train_test.drop(columns=\"year\")\n",
    "train_test = pd.concat([train_test, years], axis=1)\n",
    "\n",
    "train_test[\"month\"] = train_test.date.dt.month\n",
    "months = pd.get_dummies(train_test[\"month\"])\n",
    "train_test = train_test.drop(columns=\"month\")\n",
    "train_test = pd.concat([train_test, months], axis=1)\n",
    "\n",
    "train_test[\"weekday\"] = train_test.date.dt.weekday\n",
    "weekdays = pd.get_dummies(train_test[\"weekday\"])\n",
    "train_test = train_test.drop(columns=\"weekday\")\n",
    "train_test = pd.concat([train_test, weekdays], axis=1)\n",
    "\n",
    "areas = pd.get_dummies(train_test[\"area\"])\n",
    "train_test = train_test.drop(columns=\"area\")\n",
    "train_test = pd.concat([train_test, areas], axis=1)\n",
    "\n",
    "train = train_test[:-test.shape[0]]\n",
    "test = train_test[-test.shape[0]:]\n",
    "\n",
    "train = utils.get_target_values(train, target_vegetable)\n",
    "test = utils.get_target_values(test, target_vegetable)\n",
    "\n",
    "train_loader, train, test, ss = utils.preprocess_data(train, test, T=10)"
   ]
  },
  {
   "cell_type": "markdown",
   "id": "5211087c-5552-4035-95eb-48178141e90d",
   "metadata": {},
   "source": [
    "# Training"
   ]
  },
  {
   "cell_type": "code",
   "execution_count": 191,
   "id": "d8e492cb-7024-4945-bf68-c163e7f48d72",
   "metadata": {},
   "outputs": [],
   "source": [
    "future = test.shape[0]\n",
    "pred_y = utils.pipeline_rnn(train_loader, train, test, future=future, num_epochs=100)\n",
    "\n",
    "pred_y = pred_y.cpu().detach().numpy()\n",
    "pred_y = np.concatenate([pred_y.reshape(-1, 1), test[:, 1:]], axis=1)\n",
    "pred_y[:, :1] = ss.inverse_transform(pred_y[:, :1])"
   ]
  },
  {
   "cell_type": "code",
   "execution_count": 193,
   "id": "65cc5cc3-1f32-440f-a2ff-9058b7fe93e7",
   "metadata": {},
   "outputs": [
    {
     "data": {
      "text/plain": [
       "[110.43846757812832,\n",
       " 102.73139228754266,\n",
       " 96.86388481662581,\n",
       " 90.19372679303862,\n",
       " 82.15694767972803,\n",
       " 78.18960686845598,\n",
       " 72.59586877586456,\n",
       " 66.91223467254113,\n",
       " 62.32391640930072,\n",
       " 57.30478844221243,\n",
       " 55.78295278034459,\n",
       " 53.01857490925758,\n",
       " 50.09077295957809,\n",
       " 48.110966852467115,\n",
       " 45.725724332043896,\n",
       " 46.02804185409845,\n",
       " 45.01168878365618,\n",
       " 43.59525314080972,\n",
       " 42.836454715895044,\n",
       " 41.544536304596974]"
      ]
     },
     "execution_count": 193,
     "metadata": {},
     "output_type": "execute_result"
    }
   ],
   "source": [
    "pred_y[:, 0].tolist()"
   ]
  }
 ],
 "metadata": {
  "kernelspec": {
   "display_name": "Python 3 (ipykernel)",
   "language": "python",
   "name": "python3"
  },
  "language_info": {
   "codemirror_mode": {
    "name": "ipython",
    "version": 3
   },
   "file_extension": ".py",
   "mimetype": "text/x-python",
   "name": "python",
   "nbconvert_exporter": "python",
   "pygments_lexer": "ipython3",
   "version": "3.8.8"
  }
 },
 "nbformat": 4,
 "nbformat_minor": 5
}
